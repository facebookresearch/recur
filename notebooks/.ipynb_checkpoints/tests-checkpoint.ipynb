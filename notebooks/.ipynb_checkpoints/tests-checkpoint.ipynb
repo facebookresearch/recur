{
 "cells": [
  {
   "cell_type": "markdown",
   "metadata": {},
   "source": [
    "# Playing with generator"
   ]
  },
  {
   "cell_type": "code",
   "execution_count": 1,
   "metadata": {},
   "outputs": [],
   "source": [
    "#%%timeit\n",
    "import glob\n",
    "import os\n",
    "import matplotlib\n",
    "import matplotlib.pyplot as plt\n",
    "from mpl_toolkits.mplot3d import Axes3D\n",
    "import torch\n",
    "import numpy as np\n",
    "import sys\n",
    "import copy\n",
    "from pathlib import Path\n",
    "#from src.envs.generators import RandomRecurrence\n",
    "#from src.envs.encoders import Equation, IntegerSeries, RealSeries\n",
    "from sympy import *\n",
    "import pickle\n",
    "from collections import defaultdict, OrderedDict\n",
    "import math\n",
    "\n",
    "%reload_ext autoreload\n",
    "\n",
    "#%cd ~/recur/notebooks\n",
    "sys.path.append('/private/home/pakamienny/Research_2/recur')\n",
    "import src\n",
    "from src.envs.generators import RandomRecurrence\n",
    "from src.envs.encoders import Equation, RealSeries, IntegerSeries\n",
    "from src.envs.recurrence import RecurrenceEnvironment\n"
   ]
  },
  {
   "cell_type": "code",
   "execution_count": 8,
   "metadata": {},
   "outputs": [
    {
     "name": "stdout",
     "output_type": "stream",
     "text": [
      "Percentage of successful generation: 27.500000000000004\n",
      "Time: 1.0038113594055176\n"
     ]
    }
   ],
   "source": [
    "class params:\n",
    "    float_precision = 3\n",
    "    max_len = 30\n",
    "    max_degree = 6\n",
    "    max_number = 1e100\n",
    "    real_series = False\n",
    "    output_numeric=False\n",
    "    max_exponent = 100\n",
    "    init_scale = 10\n",
    "    prob_const=1/3\n",
    "    prob_n = 1/3\n",
    "    max_int = 10\n",
    "    prob_rand = 0.05\n",
    "    dimension=1\n",
    "    int_base=10000\n",
    "    n_predictions=5\n",
    "    float_tolerance=0.1\n",
    "    more_tolerance=\"0.1\"\n",
    "    max_ops=6\n",
    "    max_token_len=200\n",
    "    eval_noise=False\n",
    "    eval_input_length_modulo = 5\n",
    "    operators_to_remove=\"step\"\n",
    "generator = RandomRecurrence(params)\n",
    "env = RecurrenceEnvironment(params)\n",
    "env.rng = np.random.RandomState(0)\n",
    "import time \n",
    "\n",
    "SPECIAL_WORDS = [\"EOS\", \"PAD\", \"(\", \")\", \"SPECIAL\"]\n",
    "\n",
    "if params.real_series:\n",
    "    input_encoder = RealSeries(params)\n",
    "else:\n",
    "    input_encoder = IntegerSeries(params)\n",
    "input_words = SPECIAL_WORDS+sorted(list(set(input_encoder.symbols)))\n",
    "\n",
    "if params.output_numeric:\n",
    "    if params.real_series:\n",
    "        output_encoder = RealSeries(params)\n",
    "    else:\n",
    "        output_encoder = IntegerSeries(params)\n",
    "else:\n",
    "    output_encoder = Equation(params)\n",
    "\n",
    "deb = time.time()\n",
    "k_trials=1000\n",
    "successful_trials=0\n",
    "size_input=[]\n",
    "size_output=[]\n",
    "infos_stats = {}\n",
    "#n_ops_stats = {i:0 for i in range(1,(params.max_ops+1)*params.dimension)}\n",
    "\n",
    "for k in range(k_trials):\n",
    "    x, y, tree, infos = env.gen_expr(False, params.eval_input_length_modulo)\n",
    "    if tree is not None:\n",
    "        for info in infos:\n",
    "            if info not in infos_stats:\n",
    "                infos_stats[info]=np.zeros((1000,))\n",
    "            for val in infos[info]:\n",
    "                infos_stats[info][val]+=1\n",
    "        successful_trials+=1\n",
    "            #size_input.append(len(x)\n",
    "            #size_output.append(len(y))\n",
    "    \n",
    "#size_input=np.array(size_input)\n",
    "#size_output=np.array(size_output)\n",
    "#n_valid_equations = sum(list(n_ops_stats.values()))\n",
    "for info in infos_stats:\n",
    "    non_null_points = np.where(infos_stats[info]!=0.)[0]\n",
    "    values_non_null_points = infos_stats[info][non_null_points]\n",
    "    count = values_non_null_points.sum()\n",
    "    infos_stats[info] = np.concatenate([np.expand_dims(non_null_points,-1), np.expand_dims(values_non_null_points/count,-1)],-1)\n",
    "\n",
    "print(\"Percentage of successful generation: {}\".format(successful_trials/k_trials*100))\n",
    "print(\"Time: {}\".format(time.time()-deb))\n",
    "#print(\"Average sizes: input {}, output {}\".format(size_input.max(), size_output.max()))\n"
   ]
  },
  {
   "cell_type": "code",
   "execution_count": 3,
   "metadata": {},
   "outputs": [
    {
     "data": {
      "text/plain": [
       "[0, 5, 10, 15, 20, 25, 30]"
      ]
     },
     "execution_count": 3,
     "metadata": {},
     "output_type": "execute_result"
    }
   ],
   "source": [
    "[i*params.eval_input_length_modulo for i in range(params.max_len//params.eval_input_length_modulo+1)]"
   ]
  },
  {
   "cell_type": "code",
   "execution_count": 4,
   "metadata": {},
   "outputs": [
    {
     "data": {
      "text/plain": [
       "array([[30]])"
      ]
     },
     "execution_count": 4,
     "metadata": {},
     "output_type": "execute_result"
    }
   ],
   "source": [
    "x = np.array([  0.,   0.,   0.,   0.,   0.,   0.,   0.,   0.,   0.,   0.,   0.,\n",
    "         0.,   0.,   0.,   0.,   0.,   0.,   0.,   0.,   0.,   0.,   0.,\n",
    "         0.,   0.,   0.,   0.,   0.,   0.,   0.,   0., 566.\n",
    "             ])\n",
    "np.argwhere(x!=0.)"
   ]
  },
  {
   "cell_type": "markdown",
   "metadata": {},
   "source": [
    "# Checking encoder"
   ]
  },
  {
   "cell_type": "code",
   "execution_count": 5,
   "metadata": {},
   "outputs": [
    {
     "ename": "AttributeError",
     "evalue": "'NoneType' object has no attribute 'infix'",
     "output_type": "error",
     "traceback": [
      "\u001b[0;31m---------------------------------------------------------------------------\u001b[0m",
      "\u001b[0;31mAttributeError\u001b[0m                            Traceback (most recent call last)",
      "\u001b[0;32m/tmp/ipykernel_2797418/2341217575.py\u001b[0m in \u001b[0;36m<module>\u001b[0;34m\u001b[0m\n\u001b[1;32m      4\u001b[0m \u001b[0;34m\u001b[0m\u001b[0m\n\u001b[1;32m      5\u001b[0m \u001b[0mencoder\u001b[0m \u001b[0;34m=\u001b[0m \u001b[0mEquation\u001b[0m\u001b[0;34m(\u001b[0m\u001b[0mparams\u001b[0m\u001b[0;34m)\u001b[0m\u001b[0;34m\u001b[0m\u001b[0;34m\u001b[0m\u001b[0m\n\u001b[0;32m----> 6\u001b[0;31m \u001b[0mprint\u001b[0m\u001b[0;34m(\u001b[0m\u001b[0mtree\u001b[0m\u001b[0;34m.\u001b[0m\u001b[0minfix\u001b[0m\u001b[0;34m(\u001b[0m\u001b[0;34m)\u001b[0m\u001b[0;34m)\u001b[0m\u001b[0;34m\u001b[0m\u001b[0;34m\u001b[0m\u001b[0m\n\u001b[0m\u001b[1;32m      7\u001b[0m \u001b[0mencoded\u001b[0m \u001b[0;34m=\u001b[0m \u001b[0mencoder\u001b[0m\u001b[0;34m.\u001b[0m\u001b[0mencode\u001b[0m\u001b[0;34m(\u001b[0m\u001b[0mtree\u001b[0m\u001b[0;34m)\u001b[0m\u001b[0;34m\u001b[0m\u001b[0;34m\u001b[0m\u001b[0m\n\u001b[1;32m      8\u001b[0m \u001b[0mprint\u001b[0m\u001b[0;34m(\u001b[0m\u001b[0mencoded\u001b[0m\u001b[0;34m)\u001b[0m\u001b[0;34m\u001b[0m\u001b[0;34m\u001b[0m\u001b[0m\n",
      "\u001b[0;31mAttributeError\u001b[0m: 'NoneType' object has no attribute 'infix'"
     ]
    }
   ],
   "source": [
    "class params:\n",
    "    int_base = 10\n",
    "    has_separator = False\n",
    "    \n",
    "encoder = Equation(params)\n",
    "print(tree.infix())\n",
    "encoded = encoder.encode(tree)\n",
    "print(encoded)\n",
    "decoded = encoder.decode(encoded)\n",
    "print(decoded.infix())"
   ]
  },
  {
   "cell_type": "code",
   "execution_count": null,
   "metadata": {},
   "outputs": [],
   "source": [
    "class params:\n",
    "    a=1\n",
    "    \n",
    "from src.envs.encoders import RealSeries\n",
    "\n",
    "encoder = RealSeries(params)\n",
    "x = series\n",
    "print(x)\n",
    "encoded = encoder.encode(x)\n",
    "print(encoded)\n",
    "decoded = encoder.decode(encoded)\n",
    "print(decoded)"
   ]
  }
 ],
 "metadata": {
  "kernelspec": {
   "display_name": "Python 3",
   "language": "python",
   "name": "python3"
  },
  "language_info": {
   "codemirror_mode": {
    "name": "ipython",
    "version": 3
   },
   "file_extension": ".py",
   "mimetype": "text/x-python",
   "name": "python",
   "nbconvert_exporter": "python",
   "pygments_lexer": "ipython3",
   "version": "3.7.5"
  }
 },
 "nbformat": 4,
 "nbformat_minor": 4
}
