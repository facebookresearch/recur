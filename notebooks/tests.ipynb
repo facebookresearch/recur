{
 "cells": [
  {
   "cell_type": "markdown",
   "metadata": {},
   "source": [
    "# Playing with generator"
   ]
  },
  {
   "cell_type": "code",
   "execution_count": 1,
   "metadata": {},
   "outputs": [],
   "source": [
    "#%%timeit\n",
    "import glob\n",
    "import os\n",
    "import matplotlib\n",
    "import matplotlib.pyplot as plt\n",
    "from mpl_toolkits.mplot3d import Axes3D\n",
    "import torch\n",
    "import numpy as np\n",
    "import sys\n",
    "import copy\n",
    "from pathlib import Path\n",
    "#from src.envs.generators import RandomRecurrence\n",
    "#from src.envs.encoders import Equation, IntegerSeries, RealSeries\n",
    "from sympy import *\n",
    "import pickle\n",
    "from collections import defaultdict, OrderedDict\n",
    "import math\n",
    "\n",
    "%reload_ext autoreload\n",
    "\n",
    "#%cd ~/recur/notebooks\n",
    "sys.path.append('/private/home/pakamienny/Research_2/recur')\n",
    "import src\n",
    "from src.envs.generators import RandomRecurrence\n",
    "from src.envs.encoders import Equation, RealSeries, IntegerSeries\n",
    "from src.envs.recurrence import RecurrenceEnvironment\n"
   ]
  },
  {
   "cell_type": "code",
   "execution_count": 27,
   "metadata": {},
   "outputs": [
    {
     "name": "stderr",
     "output_type": "stream",
     "text": [
      "/private/home/pakamienny/Research_2/recur/src/envs/generators.py:119: RuntimeWarning: invalid value encountered in double_scalars\n",
      "  return self.children[0].val(series) - self.children[1].val(series)\n"
     ]
    },
    {
     "name": "stdout",
     "output_type": "stream",
     "text": [
      "Percentage of successful generation: 54.458\n",
      "Time: 103.8815348148346\n",
      "Average sizes: input 90, output 13\n",
      "{1: 0.15, 2: 0.17, 3: 0.18, 4: 0.17, 5: 0.17, 6: 0.16}\n"
     ]
    }
   ],
   "source": [
    "class params:\n",
    "    float_precision = 3\n",
    "    max_len = 30\n",
    "    max_degree = 6\n",
    "    max_number = 1e100\n",
    "    real_series = True\n",
    "    output_numeric=False\n",
    "    max_exponent = 100\n",
    "    init_scale = 10\n",
    "    prob_const=1/3\n",
    "    prob_n = 1/3\n",
    "    max_int = 10\n",
    "    prob_rand = 0.05\n",
    "    dimension=1\n",
    "    int_base=10000\n",
    "    n_predictions=5\n",
    "    float_tolerance=0.1\n",
    "    more_tolerance=\"0.1\"\n",
    "    max_ops=6\n",
    "    max_token_len=200\n",
    "    eval_noise=False\n",
    "    \n",
    "generator = RandomRecurrence(params)\n",
    "env = RecurrenceEnvironment(params)\n",
    "env.rng = np.random.RandomState(0)\n",
    "import time \n",
    "\n",
    "SPECIAL_WORDS = [\"EOS\", \"PAD\", \"(\", \")\", \"SPECIAL\"]\n",
    "\n",
    "if params.real_series:\n",
    "    input_encoder = RealSeries(params)\n",
    "else:\n",
    "    input_encoder = IntegerSeries(params)\n",
    "input_words = SPECIAL_WORDS+sorted(list(set(input_encoder.symbols)))\n",
    "\n",
    "if params.output_numeric:\n",
    "    if params.real_series:\n",
    "        output_encoder = RealSeries(params)\n",
    "    else:\n",
    "        output_encoder = IntegerSeries(params)\n",
    "else:\n",
    "    output_encoder = Equation(params)\n",
    "\n",
    "deb = time.time()\n",
    "k_trials=100000\n",
    "successful_trials=0\n",
    "size_input=[]\n",
    "size_output=[]\n",
    "n_ops_stats = {i:0 for i in range(1,(params.max_ops+1)*params.dimension)}\n",
    "for k in range(k_trials):\n",
    "    x, y, tree = env.gen_expr(False)\n",
    "    \n",
    "    if tree is not None:\n",
    "    \n",
    "        successful_trials+=1\n",
    "        size_input.append(len(x))\n",
    "        size_output.append(len(y))\n",
    "        n_ops = env.code_class(tree)\n",
    "        n_ops_stats[n_ops]+=1\n",
    "        #print(series)\n",
    "        #for i in range(params.dimension):\n",
    "        #    plt.title(tree.infix())\n",
    "        #    plt.plot(series[i::params.dimension])\n",
    "        #plt.yscale('symlog')\n",
    "        #plt.show()\n",
    "size_input=np.array(size_input)\n",
    "size_output=np.array(size_output)\n",
    "n_valid_equations = sum(list(n_ops_stats.values()))\n",
    "for n_ops in n_ops_stats:\n",
    "    n_ops_stats[n_ops]=round(n_ops_stats[n_ops]/n_valid_equations,2)\n",
    "print(\"Percentage of successful generation: {}\".format(successful_trials/k_trials*100))\n",
    "print(\"Time: {}\".format(time.time()-deb))\n",
    "print(\"Average sizes: input {}, output {}\".format(size_input.max(), size_output.max()))\n",
    "print(n_ops_stats)"
   ]
  },
  {
   "cell_type": "markdown",
   "metadata": {},
   "source": [
    "# Checking encoder"
   ]
  },
  {
   "cell_type": "code",
   "execution_count": 3,
   "metadata": {},
   "outputs": [
    {
     "ename": "AttributeError",
     "evalue": "'NoneType' object has no attribute 'infix'",
     "output_type": "error",
     "traceback": [
      "\u001b[0;31m---------------------------------------------------------------------------\u001b[0m",
      "\u001b[0;31mAttributeError\u001b[0m                            Traceback (most recent call last)",
      "\u001b[0;32m/tmp/ipykernel_1403458/2341217575.py\u001b[0m in \u001b[0;36m<module>\u001b[0;34m\u001b[0m\n\u001b[1;32m      4\u001b[0m \u001b[0;34m\u001b[0m\u001b[0m\n\u001b[1;32m      5\u001b[0m \u001b[0mencoder\u001b[0m \u001b[0;34m=\u001b[0m \u001b[0mEquation\u001b[0m\u001b[0;34m(\u001b[0m\u001b[0mparams\u001b[0m\u001b[0;34m)\u001b[0m\u001b[0;34m\u001b[0m\u001b[0;34m\u001b[0m\u001b[0m\n\u001b[0;32m----> 6\u001b[0;31m \u001b[0mprint\u001b[0m\u001b[0;34m(\u001b[0m\u001b[0mtree\u001b[0m\u001b[0;34m.\u001b[0m\u001b[0minfix\u001b[0m\u001b[0;34m(\u001b[0m\u001b[0;34m)\u001b[0m\u001b[0;34m)\u001b[0m\u001b[0;34m\u001b[0m\u001b[0;34m\u001b[0m\u001b[0m\n\u001b[0m\u001b[1;32m      7\u001b[0m \u001b[0mencoded\u001b[0m \u001b[0;34m=\u001b[0m \u001b[0mencoder\u001b[0m\u001b[0;34m.\u001b[0m\u001b[0mencode\u001b[0m\u001b[0;34m(\u001b[0m\u001b[0mtree\u001b[0m\u001b[0;34m)\u001b[0m\u001b[0;34m\u001b[0m\u001b[0;34m\u001b[0m\u001b[0m\n\u001b[1;32m      8\u001b[0m \u001b[0mprint\u001b[0m\u001b[0;34m(\u001b[0m\u001b[0mencoded\u001b[0m\u001b[0;34m)\u001b[0m\u001b[0;34m\u001b[0m\u001b[0;34m\u001b[0m\u001b[0m\n",
      "\u001b[0;31mAttributeError\u001b[0m: 'NoneType' object has no attribute 'infix'"
     ]
    }
   ],
   "source": [
    "class params:\n",
    "    int_base = 10\n",
    "    has_separator = False\n",
    "    \n",
    "encoder = Equation(params)\n",
    "print(tree.infix())\n",
    "encoded = encoder.encode(tree)\n",
    "print(encoded)\n",
    "decoded = encoder.decode(encoded)\n",
    "print(decoded.infix())"
   ]
  },
  {
   "cell_type": "code",
   "execution_count": null,
   "metadata": {},
   "outputs": [],
   "source": [
    "class params:\n",
    "    a=1\n",
    "    \n",
    "from src.envs.encoders import RealSeries\n",
    "\n",
    "encoder = RealSeries(params)\n",
    "x = series\n",
    "print(x)\n",
    "encoded = encoder.encode(x)\n",
    "print(encoded)\n",
    "decoded = encoder.decode(encoded)\n",
    "print(decoded)"
   ]
  }
 ],
 "metadata": {
  "kernelspec": {
   "display_name": "Python 3",
   "language": "python",
   "name": "python3"
  },
  "language_info": {
   "codemirror_mode": {
    "name": "ipython",
    "version": 3
   },
   "file_extension": ".py",
   "mimetype": "text/x-python",
   "name": "python",
   "nbconvert_exporter": "python",
   "pygments_lexer": "ipython3",
   "version": "3.7.5"
  }
 },
 "nbformat": 4,
 "nbformat_minor": 4
}
