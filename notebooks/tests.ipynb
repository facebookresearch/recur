{
 "cells": [
  {
   "cell_type": "markdown",
   "metadata": {},
   "source": [
    "# Playing with generator"
   ]
  },
  {
   "cell_type": "code",
   "execution_count": 39,
   "metadata": {},
   "outputs": [
    {
     "name": "stdout",
     "output_type": "stream",
     "text": [
      "The autoreload extension is already loaded. To reload it, use:\n",
      "  %reload_ext autoreload\n",
      "/private/home/sdascoli/recur/notebooks\n",
      "(-7 sub 6)\n",
      "[3.0577524373858367, -13, -13, -13, -13, -13, -13, -13, -13, -13, -13, -13, -13, -13, -13]\n"
     ]
    },
    {
     "data": {
      "image/png": "[encoded data removed]",
      "text/plain": [
       "<Figure size 432x288 with 1 Axes>"
      ]
     },
     "metadata": {
      "needs_background": "light"
     },
     "output_type": "display_data"
    },
    {
     "data": {
      "text/plain": [
       "1"
      ]
     },
     "execution_count": 39,
     "metadata": {},
     "output_type": "execute_result"
    }
   ],
   "source": [
    "#%%timeit\n",
    "import glob\n",
    "import os\n",
    "import matplotlib\n",
    "import matplotlib.pyplot as plt\n",
    "from mpl_toolkits.mplot3d import Axes3D\n",
    "import torch\n",
    "import numpy as np\n",
    "import sys\n",
    "import copy\n",
    "from pathlib import Path\n",
    "#from src.envs.generators import RandomRecurrence\n",
    "#from src.envs.encoders import Equation, IntegerSeries, RealSeries\n",
    "from sympy import *\n",
    "import pickle\n",
    "from collections import defaultdict, OrderedDict\n",
    "import math\n",
    "\n",
    "%load_ext autoreload\n",
    "%autoreload 2\n",
    "\n",
    "%cd ~/recur/notebooks\n",
    "sys.path.append('/private/home/sdascoli/recur')\n",
    "import src\n",
    "from src.envs.generators import RandomRecurrence\n",
    "from src.envs.encoders import Equation\n",
    "\n",
    "class params:\n",
    "    float_precision = 3\n",
    "    max_len = 15\n",
    "    max_ops = 2\n",
    "    max_degree = 2\n",
    "    max_number = 1e100\n",
    "    real_series = True\n",
    "    max_exponent = 100\n",
    "    init_scale = 10\n",
    "    prob_const=1/3\n",
    "    prob_n = 1/3\n",
    "    max_int = 10\n",
    "    prob_rand = 0.\n",
    "    dimension=1\n",
    "    \n",
    "generator = RandomRecurrence(params)\n",
    "\n",
    "rng = np.random.RandomState(0)\n",
    "tree, series = generator.generate(rng, length=15, nb_ops = 1)\n",
    "print(tree)\n",
    "print(series)\n",
    "for i in range(params.dimension):\n",
    "    plt.title(tree.infix())\n",
    "    plt.plot(series[i::params.dimension])\n",
    "#plt.yscale('symlog')\n",
    "plt.show()\n",
    "\n",
    "ending = np.array(series[-5:])\n",
    "gaps = abs(ending[1:]-ending[:-1])\n",
    "len(set(gaps))"
   ]
  },
  {
   "cell_type": "markdown",
   "metadata": {},
   "source": [
    "# Checking encoder"
   ]
  },
  {
   "cell_type": "code",
   "execution_count": 99,
   "metadata": {},
   "outputs": [
    {
     "name": "stdout",
     "output_type": "stream",
     "text": [
      "(x-0-1 div n) | (n sub x-0-1)\n",
      "['div', 'x-0-1', 'n', '|', 'sub', 'n', 'x-0-1']\n",
      "(x-0-1 div n) | (n sub x-0-1)\n"
     ]
    }
   ],
   "source": [
    "class params:\n",
    "    int_base = 10\n",
    "    has_separator = False\n",
    "    \n",
    "encoder = Equation(params)\n",
    "print(tree.infix())\n",
    "encoded = encoder.encode(tree)\n",
    "print(encoded)\n",
    "decoded = encoder.decode(encoded)\n",
    "print(decoded.infix())"
   ]
  },
  {
   "cell_type": "code",
   "execution_count": 159,
   "metadata": {},
   "outputs": [
    {
     "name": "stdout",
     "output_type": "stream",
     "text": [
      "[0.5005344306858779, -3.499465569314122, -7.499465569314122, -11.499465569314122, -15.499465569314122, -19.499465569314122, -23.499465569314122, -27.499465569314122, -31.499465569314122, -35.499465569314125, -39.499465569314125, -43.499465569314125, -47.499465569314125, -51.499465569314125, -55.499465569314125, -59.499465569314125, -63.499465569314125, -67.49946556931413, -71.49946556931413, -75.49946556931413, -79.49946556931413, -83.49946556931413, -87.49946556931413, -91.49946556931413, -95.49946556931413, -99.49946556931413, -103.49946556931413, -107.49946556931413, -111.49946556931413, -115.49946556931413, -119.49946556931413]\n",
      "['+', 'N50053', 'E-5', '-', 'N-34995', 'E-4', '-', 'N-74995', 'E-4', '-', 'N-11499', 'E-3', '-', 'N-15499', 'E-3', '-', 'N-19499', 'E-3', '-', 'N-23499', 'E-3', '-', 'N-27499', 'E-3', '-', 'N-31499', 'E-3', '-', 'N-35499', 'E-3', '-', 'N-39499', 'E-3', '-', 'N-43499', 'E-3', '-', 'N-47499', 'E-3', '-', 'N-51499', 'E-3', '-', 'N-55499', 'E-3', '-', 'N-59499', 'E-3', '-', 'N-63499', 'E-3', '-', 'N-67499', 'E-3', '-', 'N-71499', 'E-3', '-', 'N-75499', 'E-3', '-', 'N-79499', 'E-3', '-', 'N-83499', 'E-3', '-', 'N-87499', 'E-3', '-', 'N-91499', 'E-3', '-', 'N-95499', 'E-3', '-', 'N-99499', 'E-3', '-', 'N-10350', 'E-2', '-', 'N-10750', 'E-2', '-', 'N-11150', 'E-2', '-', 'N-11550', 'E-2', '-', 'N-11950', 'E-2']\n",
      "[0.50053, 3.4995000000000003, 7.4995, 11.499, 15.499, 19.499, 23.499, 27.499000000000002, 31.499000000000002, 35.499, 39.499, 43.499, 47.499, 51.499, 55.499, 59.499, 63.499, 67.499, 71.499, 75.499, 79.499, 83.499, 87.499, 91.499, 95.499, 99.499, 103.5, 107.5, 111.5, 115.5, 119.5]\n"
     ]
    }
   ],
   "source": [
    "class params:\n",
    "    a=1\n",
    "    \n",
    "from src.envs.encoders import RealSeries\n",
    "\n",
    "encoder = RealSeries(params)\n",
    "x = series\n",
    "print(x)\n",
    "encoded = encoder.encode(x)\n",
    "print(encoded)\n",
    "decoded = encoder.decode(encoded)\n",
    "print(decoded)"
   ]
  }
 ],
 "metadata": {
  "kernelspec": {
   "display_name": "Python 3",
   "language": "python",
   "name": "python3"
  },
  "language_info": {
   "codemirror_mode": {
    "name": "ipython",
    "version": 3
   },
   "file_extension": ".py",
   "mimetype": "text/x-python",
   "name": "python",
   "nbconvert_exporter": "python",
   "pygments_lexer": "ipython3",
   "version": "3.8.5"
  }
 },
 "nbformat": 4,
 "nbformat_minor": 4
}
