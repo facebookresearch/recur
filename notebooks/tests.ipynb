{
 "cells": [
  {
   "cell_type": "markdown",
   "metadata": {},
   "source": [
    "# Playing with generator"
   ]
  },
  {
   "cell_type": "code",
   "execution_count": 2,
   "metadata": {},
   "outputs": [],
   "source": [
    "#%%timeit\n",
    "import glob\n",
    "import os\n",
    "import matplotlib\n",
    "import matplotlib.pyplot as plt\n",
    "from mpl_toolkits.mplot3d import Axes3D\n",
    "import torch\n",
    "import numpy as np\n",
    "import sys\n",
    "import copy\n",
    "from pathlib import Path\n",
    "#from src.envs.generators import RandomRecurrence\n",
    "#from src.envs.encoders import Equation, IntegerSeries, RealSeries\n",
    "from sympy import *\n",
    "import pickle\n",
    "from collections import defaultdict, OrderedDict\n",
    "import math\n",
    "\n",
    "%load_ext autoreload\n",
    "%autoreload 2\n",
    "#%cd ~/recur/notebooks\n",
    "sys.path.append('/private/home/sdascoli/recur')\n",
    "import src\n",
    "from src.envs.generators import RandomRecurrence\n",
    "from src.envs.encoders import  Equation, FloatSequences, IntegerSequences\n",
    "from src.envs.recurrence import RecurrenceEnvironment\n"
   ]
  },
  {
   "cell_type": "code",
   "execution_count": 3,
   "metadata": {},
   "outputs": [
    {
     "name": "stdout",
     "output_type": "stream",
     "text": [
      "{'-1': 0, '-10': 1, '-2': 2, '-3': 3, '-4': 4, '-5': 5, '-6': 6, '-7': 7, '-8': 8, '-9': 9, '0': 10, '1': 11, '10': 12, '2': 13, '3': 14, '4': 15, '5': 16, '6': 17, '7': 18, '8': 19, '9': 20, 'INT+': 21, 'INT-': 22, 'abs': 23, 'add': 24, 'arccos': 25, 'arcsin': 26, 'arctan': 27, 'cos': 28, 'div': 29, 'e': 30, 'euler_gamma': 31, 'exp': 32, 'inv': 33, 'log': 34, 'mul': 35, 'n': 36, 'pi': 37, 'pow': 38, 'rand': 39, 'sin': 40, 'sqr': 41, 'sqrt': 42, 'sub': 43, 'tan': 44, 'x_0_0': 45, 'x_0_1': 46, 'x_0_2': 47, 'x_0_3': 48, 'x_0_4': 49, 'x_0_5': 50, 'x_0_6': 51, '|': 52, 'EOS': 53, 'PAD': 54, '(': 55, ')': 56, 'SPECIAL': 57, 'OOD_unary_op': 58, 'OOD_binary_op': 59, 'OOD_constant': 60, '': 60}\n",
      "{0: '-1', 1: '-10', 2: '-2', 3: '-3', 4: '-4', 5: '-5', 6: '-6', 7: '-7', 8: '-8', 9: '-9', 10: '0', 11: '1', 12: '10', 13: '2', 14: '3', 15: '4', 16: '5', 17: '6', 18: '7', 19: '8', 20: '9', 21: 'INT+', 22: 'INT-', 23: 'abs', 24: 'add', 25: 'arccos', 26: 'arcsin', 27: 'arctan', 28: 'cos', 29: 'div', 30: 'e', 31: 'euler_gamma', 32: 'exp', 33: 'inv', 34: 'log', 35: 'mul', 36: 'n', 37: 'pi', 38: 'pow', 39: 'rand', 40: 'sin', 41: 'sqr', 42: 'sqrt', 43: 'sub', 44: 'tan', 45: 'x_0_0', 46: 'x_0_1', 47: 'x_0_2', 48: 'x_0_3', 49: 'x_0_4', 50: 'x_0_5', 51: 'x_0_6', 52: '|', 53: 'EOS', 54: 'PAD', 55: '(', 56: ')', 57: 'SPECIAL', 58: 'OOD_unary_op', 59: 'OOD_binary_op', 60: 'OOD_constant'}\n"
     ]
    },
    {
     "name": "stderr",
     "output_type": "stream",
     "text": [
      "/private/home/sdascoli/recur/src/envs/generators.py:158: RuntimeWarning: invalid value encountered in sqrt\n",
      "  try: return getattr(np,self.value)(self.children[0].val(series))\n",
      "/private/home/sdascoli/recur/src/envs/generators.py:158: RuntimeWarning: invalid value encountered in log\n",
      "  try: return getattr(np,self.value)(self.children[0].val(series))\n",
      "/private/home/sdascoli/recur/src/envs/generators.py:139: RuntimeWarning: divide by zero encountered in double_scalars\n",
      "  return 1/(self.children[0].val(series))\n",
      "/private/home/sdascoli/recur/src/envs/generators.py:122: RuntimeWarning: invalid value encountered in double_scalars\n",
      "  return self.children[0].val(series) * self.children[1].val(series)\n",
      "/private/home/sdascoli/recur/src/envs/generators.py:158: RuntimeWarning: invalid value encountered in arccos\n",
      "  try: return getattr(np,self.value)(self.children[0].val(series))\n",
      "/private/home/sdascoli/recur/src/envs/generators.py:158: RuntimeWarning: overflow encountered in exp\n",
      "  try: return getattr(np,self.value)(self.children[0].val(series))\n",
      "/private/home/sdascoli/recur/src/envs/generators.py:158: RuntimeWarning: invalid value encountered in arcsin\n",
      "  try: return getattr(np,self.value)(self.children[0].val(series))\n",
      "/private/home/sdascoli/recur/src/envs/generators.py:158: RuntimeWarning: divide by zero encountered in log\n",
      "  try: return getattr(np,self.value)(self.children[0].val(series))\n"
     ]
    },
    {
     "name": "stdout",
     "output_type": "stream",
     "text": [
      "Percentage of successful generation: 46.1\n",
      "Time: 1.3668649196624756\n",
      "{'n_input_points': array([[1.00000000e+01, 6.07375271e-02],\n",
      "       [1.10000000e+01, 4.77223427e-02],\n",
      "       [1.20000000e+01, 4.12147505e-02],\n",
      "       [1.30000000e+01, 3.47071584e-02],\n",
      "       [1.40000000e+01, 6.29067245e-02],\n",
      "       [1.50000000e+01, 4.77223427e-02],\n",
      "       [1.60000000e+01, 5.20607375e-02],\n",
      "       [1.70000000e+01, 4.55531453e-02],\n",
      "       [1.80000000e+01, 5.85683297e-02],\n",
      "       [1.90000000e+01, 5.85683297e-02],\n",
      "       [2.00000000e+01, 3.68763557e-02],\n",
      "       [2.10000000e+01, 4.55531453e-02],\n",
      "       [2.20000000e+01, 4.33839479e-02],\n",
      "       [2.30000000e+01, 5.20607375e-02],\n",
      "       [2.40000000e+01, 6.50759219e-02],\n",
      "       [2.50000000e+01, 4.77223427e-02],\n",
      "       [2.60000000e+01, 1.95227766e-02],\n",
      "       [2.70000000e+01, 5.42299349e-02],\n",
      "       [2.80000000e+01, 4.33839479e-02],\n",
      "       [2.90000000e+01, 3.47071584e-02],\n",
      "       [3.00000000e+01, 4.77223427e-02]]), 'n_ops': array([[ 1.        ,  0.11930586],\n",
      "       [ 2.        ,  0.12581345],\n",
      "       [ 3.        ,  0.10195228],\n",
      "       [ 4.        ,  0.10845987],\n",
      "       [ 5.        ,  0.09761388],\n",
      "       [ 6.        ,  0.11062907],\n",
      "       [ 7.        ,  0.09978308],\n",
      "       [ 8.        ,  0.09110629],\n",
      "       [ 9.        ,  0.07809111],\n",
      "       [10.        ,  0.06724512]]), 'n_recurrence_degree': array([[0.        , 0.21475054],\n",
      "       [1.        , 0.2494577 ],\n",
      "       [2.        , 0.18221258],\n",
      "       [3.        , 0.14316703],\n",
      "       [4.        , 0.11062907],\n",
      "       [5.        , 0.05856833],\n",
      "       [6.        , 0.04121475]])}\n",
      "Average sizes: input 175, output 25\n"
     ]
    },
    {
     "name": "stderr",
     "output_type": "stream",
     "text": [
      "/private/home/sdascoli/recur/src/envs/generators.py:141: RuntimeWarning: overflow encountered in double_scalars\n",
      "  return (self.children[0].val(series))**2\n"
     ]
    }
   ],
   "source": [
    "class params:\n",
    "    float_precision = 11\n",
    "    max_len = 30\n",
    "    min_len=10\n",
    "    max_degree = 6\n",
    "    max_number = 1e100\n",
    "    float_sequences = True\n",
    "    output_numeric = False\n",
    "    max_exponent = 100\n",
    "    init_scale = 10\n",
    "    prob_const=1/3\n",
    "    prob_n = 1/3\n",
    "    max_int = 10\n",
    "    prob_rand = 0.05\n",
    "    dimension=1\n",
    "    int_base=10000\n",
    "    n_predictions=5\n",
    "    float_tolerance=0.1\n",
    "    more_tolerance=\"0.1\"\n",
    "    max_ops=10\n",
    "    max_token_len=200\n",
    "    eval_noise=False\n",
    "    eval_input_length_modulo = -1\n",
    "    operators_to_remove=\"\"\n",
    "    required_operators=\"\"\n",
    "    extra_unary_operators=\"\"\n",
    "    extra_binary_operators=\"\"\n",
    "    extra_constants=\"\"\n",
    "    float_constants=None\n",
    "    use_sympy=False\n",
    "    simplify=False\n",
    "    mantissa_len = 3\n",
    "    \n",
    "generator = RandomRecurrence(params)\n",
    "env = RecurrenceEnvironment(params)\n",
    "env.rng = np.random.RandomState(0)\n",
    "import time \n",
    "\n",
    "SPECIAL_WORDS = [\"EOS\", \"PAD\", \"(\", \")\", \"SPECIAL\"]\n",
    "\n",
    "if params.float_sequences:\n",
    "    input_encoder = FloatSequences(params)\n",
    "else:\n",
    "    input_encoder = IntegerSequences(params)\n",
    "input_words = SPECIAL_WORDS+sorted(list(set(input_encoder.symbols)))\n",
    "\n",
    "if params.output_numeric:\n",
    "    if params.float_sequences:\n",
    "        output_encoder = FloatSequences(params)\n",
    "    else:\n",
    "        output_encoder = IntegerSequences(params)\n",
    "else:\n",
    "    output_encoder = Equation(params, generator.symbols)\n",
    "print(env.output_word2id)\n",
    "print(env.output_id2word)\n",
    "\n",
    "deb = time.time()\n",
    "k_trials=1000\n",
    "successful_trials=0\n",
    "size_input=[]\n",
    "size_output=[]\n",
    "infos_stats = {}\n",
    "#n_ops_stats = {i:0 for i in range(1,(params.max_ops+1)*params.dimension)}\n",
    "\n",
    "for k in range(k_trials):\n",
    "    \n",
    "    x, y, tree, infos = env.gen_expr(False, params.eval_input_length_modulo)\n",
    "    if tree is not None:\n",
    "        for info in infos:\n",
    "            if info not in infos_stats:\n",
    "                infos_stats[info]=np.zeros((1000,))\n",
    "            for val in infos[info]:\n",
    "                infos_stats[info][val]+=1\n",
    "\n",
    "        successful_trials+=1\n",
    "        size_input.append(len(x[0]))\n",
    "        size_output.append(len(y[0]))\n",
    "\n",
    "size_input=np.array(size_input)\n",
    "size_output=np.array(size_output)\n",
    "#n_valid_equations = sum(list(n_ops_stats.values()))\n",
    "for info in infos_stats:\n",
    "    non_null_points = np.where(infos_stats[info]!=0.)[0]\n",
    "    values_non_null_points = infos_stats[info][non_null_points]\n",
    "    count = values_non_null_points.sum()\n",
    "    infos_stats[info] = np.concatenate([np.expand_dims(non_null_points,-1), np.expand_dims(values_non_null_points/count,-1)],-1)\n",
    "\n",
    "print(\"Percentage of successful generation: {}\".format(successful_trials/k_trials*100))\n",
    "print(\"Time: {}\".format(time.time()-deb))\n",
    "print(infos_stats)\n",
    "print(\"Average sizes: input {}, output {}\".format(size_input.max(), size_output.max()))\n"
   ]
  },
  {
   "cell_type": "code",
   "execution_count": null,
   "metadata": {},
   "outputs": [],
   "source": [
    "python train.py --export_data True --dump_path=/private/home/pakamienny/Research_2/recur_datasets/all_domain/ --cpu True --max_epoch 2 --eval_input_length_modulo 5 --epoch_size 10000 "
   ]
  },
  {
   "cell_type": "code",
   "execution_count": null,
   "metadata": {},
   "outputs": [],
   "source": [
    "x = np.array([  0.,   0.,   0.,   0.,   0.,   0.,   0.,   0.,   0.,   0.,   0.,\n",
    "         0.,   0.,   0.,   0.,   0.,   0.,   0.,   0.,   0.,   0.,   0.,\n",
    "         0.,   0.,   0.,   0.,   0.,   0.,   0.,   0., 566.\n",
    "             ])\n",
    "np.argwhere(x!=0.)"
   ]
  },
  {
   "cell_type": "markdown",
   "metadata": {},
   "source": [
    "# Checking encoder"
   ]
  },
  {
   "cell_type": "code",
   "execution_count": 32,
   "metadata": {},
   "outputs": [
    {
     "name": "stdout",
     "output_type": "stream",
     "text": [
      "[['-', 'N9221', 'E-3', '-', 'N9586', 'E-3', '-', 'N4554', 'E-3', '-', 'N2530', 'E-3', '-', 'N7061', 'E-3', '+', 'N2104', 'E-3', '+', 'N1727', 'E-3', '+', 'N7105', 'E-3', '+', 'N9656', 'E-3', '+', 'N4364', 'E-3', '+', 'N1168', 'E-2', '+', 'N1099', 'E-2', '+', 'N1768', 'E-2', '+', 'N2035', 'E-2', '+', 'N1468', 'E-2', '+', 'N2242', 'E-2', '+', 'N2172', 'E-2', '+', 'N2851', 'E-2', '+', 'N3120', 'E-2', '+', 'N2547', 'E-2', '+', 'N3329', 'E-2', '+', 'N3258', 'E-2', '+', 'N3941', 'E-2', '+', 'N4210', 'E-2', '+', 'N3635', 'E-2', '+', 'N4420', 'E-2', '+', 'N4349', 'E-2', '+', 'N5033', 'E-2', '+', 'N5303', 'E-2']] [['sub', 'sub', 'add', 'n', 'abs', 'sqr', 'INT-', '3', 'div', 'INT+', '3', 'x_0_5', 'add', 'INT-', '2', 'sub', 'n', 'x_0_5']] (((n add abs((-3)**2)) sub (3 div x_0_5)) sub (-2 add (n sub x_0_5)))\n"
     ]
    }
   ],
   "source": [
    "x, y, tree, infos = env.gen_expr(False)\n",
    "print(x,y,tree)"
   ]
  },
  {
   "cell_type": "code",
   "execution_count": 33,
   "metadata": {},
   "outputs": [
    {
     "name": "stdout",
     "output_type": "stream",
     "text": [
      "(((n add abs((-3)**2)) sub (3 div x_0_5)) sub (-2 add (n sub x_0_5)))\n",
      "['sub', 'sub', 'add', 'n', 'abs', 'sqr', 'INT-', '3', 'div', 'INT+', '3', 'x_0_5', 'add', 'INT-', '2', 'sub', 'n', 'x_0_5']\n",
      "(((n add abs((-3)**2)) sub (3 div x_0_5)) sub (-2 add (n sub x_0_5)))\n"
     ]
    }
   ],
   "source": [
    "encoder = Equation(params, generator.symbols)\n",
    "print(tree.infix())\n",
    "encoded = encoder.encode(tree)\n",
    "print(encoded)\n",
    "decoded = encoder.decode(encoded)\n",
    "print(decoded.infix())"
   ]
  },
  {
   "cell_type": "code",
   "execution_count": 9,
   "metadata": {},
   "outputs": [
    {
     "name": "stdout",
     "output_type": "stream",
     "text": [
      "[1, -0.1, 0.01, -0.001, 0.0001, -1e-05, 1e-06, -1e-07, 1e-08, -1e-09, 1e-10, -1e-11, 1e-12, -1e-13, 1e-14, -1e-15, 1e-16, -1e-17, 1e-18, -1e-19, 1e-20, -1e-21, 1e-22, -1e-23, 1e-24, -1e-25, 1e-26, -1e-27, 1e-28, -1e-29, 1e-30, -1e-31, 1e-32, -1e-33, 1e-34, -1e-35, 1e-36, -1e-37, 1e-38, -1e-39, 1e-40, -1e-41, 1e-42, -1e-43, 1e-44, -1e-45, 1e-46, -1e-47, 1e-48, -1e-49, 1e-50, -1e-51, 1e-52, -1e-53, 1e-54, -1e-55, 1e-56, -1e-57, 1e-58, -1e-59, 1e-60, -1e-61, 1e-62, -1e-63, 1e-64, -1e-65, 1e-66, -1e-67, 1e-68, -1e-69, 1e-70, -1e-71, 1e-72, -1e-73, 1e-74, -1e-75, 1e-76, -1e-77, 1e-78, -1e-79, 1e-80, -1e-81, 1e-82, -1e-83, 1e-84, -1e-85, 1e-86, -1e-87, 1e-88, -1e-89, 1e-90, -1e-91, 1e-92, -1e-93, 1e-94, -1e-95, 1e-96, -1e-97, 1e-98, -1e-99, 1e-100, -1e-101, 1e-102, -1e-103, 1e-104, -1e-105, 1e-106, -1e-107, 1e-108, -1e-109, 1e-110, -1e-111, 1e-112, -1e-113, 1e-114, -1e-115, 1e-116, -1e-117, 1e-118, -1e-119, 1e-120, -1e-121, 1e-122, -1e-123, 1e-124, -1e-125, 1e-126, -1e-127, 1e-128, -1e-129]\n",
      "['+', 'N1000', 'N0000', 'N0000', 'E-11', '-', 'N1000', 'N0000', 'N0000', 'E-12', '+', 'N1000', 'N0000', 'N0000', 'E-13', '-', 'N1000', 'N0000', 'N0000', 'E-14', '+', 'N1000', 'N0000', 'N0000', 'E-15', '-', 'N1000', 'N0000', 'N0000', 'E-16', '+', 'N1000', 'N0000', 'N0000', 'E-17', '-', 'N1000', 'N0000', 'N0000', 'E-18', '+', 'N1000', 'N0000', 'N0000', 'E-19', '-', 'N1000', 'N0000', 'N0000', 'E-20', '+', 'N1000', 'N0000', 'N0000', 'E-21', '-', 'N1000', 'N0000', 'N0000', 'E-22', '+', 'N1000', 'N0000', 'N0000', 'E-23', '-', 'N1000', 'N0000', 'N0000', 'E-24', '+', 'N1000', 'N0000', 'N0000', 'E-25', '-', 'N1000', 'N0000', 'N0000', 'E-26', '+', 'N1000', 'N0000', 'N0000', 'E-27', '-', 'N1000', 'N0000', 'N0000', 'E-28', '+', 'N1000', 'N0000', 'N0000', 'E-29', '-', 'N1000', 'N0000', 'N0000', 'E-30', '+', 'N1000', 'N0000', 'N0000', 'E-31', '-', 'N1000', 'N0000', 'N0000', 'E-32', '+', 'N1000', 'N0000', 'N0000', 'E-33', '-', 'N1000', 'N0000', 'N0000', 'E-34', '+', 'N1000', 'N0000', 'N0000', 'E-35', '-', 'N1000', 'N0000', 'N0000', 'E-36', '+', 'N1000', 'N0000', 'N0000', 'E-37', '-', 'N1000', 'N0000', 'N0000', 'E-38', '+', 'N1000', 'N0000', 'N0000', 'E-39', '-', 'N1000', 'N0000', 'N0000', 'E-40', '+', 'N1000', 'N0000', 'N0000', 'E-41', '-', 'N1000', 'N0000', 'N0000', 'E-42', '+', 'N1000', 'N0000', 'N0000', 'E-43', '-', 'N1000', 'N0000', 'N0000', 'E-44', '+', 'N1000', 'N0000', 'N0000', 'E-45', '-', 'N1000', 'N0000', 'N0000', 'E-46', '+', 'N1000', 'N0000', 'N0000', 'E-47', '-', 'N1000', 'N0000', 'N0000', 'E-48', '+', 'N1000', 'N0000', 'N0000', 'E-49', '-', 'N1000', 'N0000', 'N0000', 'E-50', '+', 'N1000', 'N0000', 'N0000', 'E-51', '-', 'N1000', 'N0000', 'N0000', 'E-52', '+', 'N1000', 'N0000', 'N0000', 'E-53', '-', 'N1000', 'N0000', 'N0000', 'E-54', '+', 'N1000', 'N0000', 'N0000', 'E-55', '-', 'N1000', 'N0000', 'N0000', 'E-56', '+', 'N1000', 'N0000', 'N0000', 'E-57', '-', 'N1000', 'N0000', 'N0000', 'E-58', '+', 'N1000', 'N0000', 'N0000', 'E-59', '-', 'N1000', 'N0000', 'N0000', 'E-60', '+', 'N1000', 'N0000', 'N0000', 'E-61', '-', 'N1000', 'N0000', 'N0000', 'E-62', '+', 'N1000', 'N0000', 'N0000', 'E-63', '-', 'N1000', 'N0000', 'N0000', 'E-64', '+', 'N1000', 'N0000', 'N0000', 'E-65', '-', 'N1000', 'N0000', 'N0000', 'E-66', '+', 'N1000', 'N0000', 'N0000', 'E-67', '-', 'N1000', 'N0000', 'N0000', 'E-68', '+', 'N1000', 'N0000', 'N0000', 'E-69', '-', 'N1000', 'N0000', 'N0000', 'E-70', '+', 'N1000', 'N0000', 'N0000', 'E-71', '-', 'N1000', 'N0000', 'N0000', 'E-72', '+', 'N1000', 'N0000', 'N0000', 'E-73', '-', 'N1000', 'N0000', 'N0000', 'E-74', '+', 'N1000', 'N0000', 'N0000', 'E-75', '-', 'N1000', 'N0000', 'N0000', 'E-76', '+', 'N1000', 'N0000', 'N0000', 'E-77', '-', 'N1000', 'N0000', 'N0000', 'E-78', '+', 'N1000', 'N0000', 'N0000', 'E-79', '-', 'N1000', 'N0000', 'N0000', 'E-80', '+', 'N1000', 'N0000', 'N0000', 'E-81', '-', 'N1000', 'N0000', 'N0000', 'E-82', '+', 'N1000', 'N0000', 'N0000', 'E-83', '-', 'N1000', 'N0000', 'N0000', 'E-84', '+', 'N1000', 'N0000', 'N0000', 'E-85', '-', 'N1000', 'N0000', 'N0000', 'E-86', '+', 'N1000', 'N0000', 'N0000', 'E-87', '-', 'N1000', 'N0000', 'N0000', 'E-88', '+', 'N1000', 'N0000', 'N0000', 'E-89', '-', 'N1000', 'N0000', 'N0000', 'E-90', '+', 'N1000', 'N0000', 'N0000', 'E-91', '-', 'N1000', 'N0000', 'N0000', 'E-92', '+', 'N1000', 'N0000', 'N0000', 'E-93', '-', 'N1000', 'N0000', 'N0000', 'E-94', '+', 'N1000', 'N0000', 'N0000', 'E-95', '-', 'N1000', 'N0000', 'N0000', 'E-96', '+', 'N1000', 'N0000', 'N0000', 'E-97', '-', 'N1000', 'N0000', 'N0000', 'E-98', '+', 'N1000', 'N0000', 'N0000', 'E-99', '-', 'N1000', 'N0000', 'N0000', 'E-100', '+', 'N0000', 'N0000', 'N0000', 'E0', '-', 'N0000', 'N0000', 'N0000', 'E0', '+', 'N0000', 'N0000', 'N0000', 'E0', '-', 'N0000', 'N0000', 'N0000', 'E0', '+', 'N0000', 'N0000', 'N0000', 'E0', '-', 'N0000', 'N0000', 'N0000', 'E0', '+', 'N0000', 'N0000', 'N0000', 'E0', '-', 'N0000', 'N0000', 'N0000', 'E0', '+', 'N0000', 'N0000', 'N0000', 'E0', '-', 'N0000', 'N0000', 'N0000', 'E0', '+', 'N0000', 'N0000', 'N0000', 'E0', '-', 'N0000', 'N0000', 'N0000', 'E0', '+', 'N0000', 'N0000', 'N0000', 'E0', '-', 'N0000', 'N0000', 'N0000', 'E0', '+', 'N0000', 'N0000', 'N0000', 'E0', '-', 'N0000', 'N0000', 'N0000', 'E0', '+', 'N0000', 'N0000', 'N0000', 'E0', '-', 'N0000', 'N0000', 'N0000', 'E0', '+', 'N0000', 'N0000', 'N0000', 'E0', '-', 'N0000', 'N0000', 'N0000', 'E0', '+', 'N0000', 'N0000', 'N0000', 'E0', '-', 'N0000', 'N0000', 'N0000', 'E0', '+', 'N0000', 'N0000', 'N0000', 'E0', '-', 'N0000', 'N0000', 'N0000', 'E0', '+', 'N0000', 'N0000', 'N0000', 'E0', '-', 'N0000', 'N0000', 'N0000', 'E0', '+', 'N0000', 'N0000', 'N0000', 'E0', '-', 'N0000', 'N0000', 'N0000', 'E0', '+', 'N0000', 'N0000', 'N0000', 'E0', '-', 'N0000', 'N0000', 'N0000', 'E0', '+', 'N0000', 'N0000', 'N0000', 'E0', '-', 'N0000', 'N0000', 'N0000', 'E0', '+', 'N0000', 'N0000', 'N0000', 'E0', '-', 'N0000', 'N0000', 'N0000', 'E0', '+', 'N0000', 'N0000', 'N0000', 'E0', '-', 'N0000', 'N0000', 'N0000', 'E0', '+', 'N0000', 'N0000', 'N0000', 'E0', '-', 'N0000', 'N0000', 'N0000', 'E0', '+', 'N0000', 'N0000', 'N0000', 'E0', '-', 'N0000', 'N0000', 'N0000', 'E0']\n",
      "[0.9999999999999999, -0.09999999999999999, 0.01, -0.001, 0.0001, -9.999999999999999e-06, 1.0000000000000002e-06, -1.0000000000000001e-07, 1e-08, -9.999999999999999e-10, 9.999999999999999e-11, -1.0000000000000001e-11, 1e-12, -9.999999999999999e-14, 1e-14, -1e-15, 1e-16, -9.999999999999999e-18, 9.999999999999999e-19, -1.0000000000000001e-19, 1.0000000000000001e-20, -1.0000000000000001e-21, 1e-22, -1e-23, 1e-24, -9.999999999999999e-26, 1e-26, -1e-27, 1e-28, -1e-29, 1e-30, -1e-31, 1e-32, -9.999999999999999e-34, 1e-34, -1e-35, 1e-36, -1e-37, 1e-38, -1e-39, 1e-40, -1e-41, 1e-42, -1e-43, 1e-44, -1e-45, 1e-46, -1e-47, 1e-48, -1e-49, 1e-50, -1e-51, 1e-52, -9.999999999999999e-54, 9.999999999999999e-55, -1e-55, 9.999999999999999e-57, -1.0000000000000001e-57, 1e-58, -1e-59, 1e-60, -1e-61, 1e-62, -9.999999999999999e-64, 1e-64, -1e-65, 1e-66, -1e-67, 1e-68, -1e-69, 1e-70, -1e-71, 1.0000000000000001e-72, -1e-73, 1e-74, -1.0000000000000001e-75, 1.0000000000000001e-76, -1e-77, 1e-78, -1e-79, 1e-80, -1e-81, 1e-82, -1e-83, 1e-84, -1e-85, 1e-86, -9.999999999999999e-88, 1.0000000000000001e-88, -1e-89, 0.0, 0.0, 0.0, 0.0, 0.0, 0.0, 0.0, 0.0, 0.0, 0.0, 0.0, 0.0, 0.0, 0.0, 0.0, 0.0, 0.0, 0.0, 0.0, 0.0, 0.0, 0.0, 0.0, 0.0, 0.0, 0.0, 0.0, 0.0, 0.0, 0.0, 0.0, 0.0, 0.0, 0.0, 0.0, 0.0, 0.0, 0.0, 0.0, 0.0]\n"
     ]
    }
   ],
   "source": [
    "x = [(-1)**n*10**-n for n in range(130)]\n",
    "encoder = FloatSequences(params)\n",
    "#print(encoder.symbols)\n",
    "print(x)\n",
    "encoded = encoder.encode(x)\n",
    "print(encoded)\n",
    "decoded = encoder.decode(encoded)\n",
    "print(decoded)"
   ]
  },
  {
   "cell_type": "code",
   "execution_count": 30,
   "metadata": {},
   "outputs": [
    {
     "data": {
      "text/plain": [
       "'01000'"
      ]
     },
     "execution_count": 30,
     "metadata": {},
     "output_type": "execute_result"
    }
   ],
   "source": [
    "num=1000\n",
    "base = 5\n",
    "f\"%0{base}d\" % num"
   ]
  },
  {
   "cell_type": "code",
   "execution_count": null,
   "metadata": {},
   "outputs": [],
   "source": []
  }
 ],
 "metadata": {
  "kernelspec": {
   "display_name": "Python 3",
   "language": "python",
   "name": "python3"
  },
  "language_info": {
   "codemirror_mode": {
    "name": "ipython",
    "version": 3
   },
   "file_extension": ".py",
   "mimetype": "text/x-python",
   "name": "python",
   "nbconvert_exporter": "python",
   "pygments_lexer": "ipython3",
   "version": "3.8.5"
  }
 },
 "nbformat": 4,
 "nbformat_minor": 4
}
