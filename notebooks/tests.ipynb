{
 "cells": [
  {
   "cell_type": "markdown",
   "metadata": {},
   "source": [
    "# Playing with generator"
   ]
  },
  {
   "cell_type": "code",
   "execution_count": 2,
   "metadata": {},
   "outputs": [
    {
     "name": "stdout",
     "output_type": "stream",
     "text": [
      "The autoreload extension is already loaded. To reload it, use:\n",
      "  %reload_ext autoreload\n"
     ]
    }
   ],
   "source": [
    "#%%timeit\n",
    "import glob\n",
    "import os\n",
    "import matplotlib\n",
    "import matplotlib.pyplot as plt\n",
    "from mpl_toolkits.mplot3d import Axes3D\n",
    "import torch\n",
    "import numpy as np\n",
    "import sys\n",
    "import copy\n",
    "from pathlib import Path\n",
    "#from src.envs.generators import RandomRecurrence\n",
    "#from src.envs.encoders import Equation, IntegerSeries, RealSeries\n",
    "from sympy import *\n",
    "import pickle\n",
    "from collections import defaultdict, OrderedDict\n",
    "import math\n",
    "\n",
    "%load_ext autoreload\n",
    "%autoreload 2\n",
    "#%cd ~/recur/notebooks\n",
    "sys.path.append('/private/home/sdascoli/recur')\n",
    "import src\n",
    "from src.envs.generators import RandomRecurrence\n",
    "from src.envs.encoders import  Equation, FloatSequences, IntegerSequences\n",
    "from src.envs.recurrence import RecurrenceEnvironment\n"
   ]
  },
  {
   "cell_type": "code",
   "execution_count": 31,
   "metadata": {},
   "outputs": [
    {
     "name": "stdout",
     "output_type": "stream",
     "text": [
      "{'-1': 0, '-10': 1, '-2': 2, '-3': 3, '-4': 4, '-5': 5, '-6': 6, '-7': 7, '-8': 8, '-9': 9, '0': 10, '1': 11, '10': 12, '2': 13, '3': 14, '4': 15, '5': 16, '6': 17, '7': 18, '8': 19, '9': 20, 'INT+': 21, 'INT-': 22, 'abs': 23, 'add': 24, 'arccos': 25, 'arcsin': 26, 'arctan': 27, 'cos': 28, 'div': 29, 'e': 30, 'euler_gamma': 31, 'exp': 32, 'inv': 33, 'log': 34, 'mul': 35, 'n': 36, 'pi': 37, 'pow': 38, 'rand': 39, 'sin': 40, 'sqr': 41, 'sqrt': 42, 'sub': 43, 'tan': 44, 'x_0_0': 45, 'x_0_1': 46, 'x_0_2': 47, 'x_0_3': 48, 'x_0_4': 49, 'x_0_5': 50, 'x_0_6': 51, '|': 52, 'EOS': 53, 'PAD': 54, '(': 55, ')': 56, 'SPECIAL': 57, 'OOD_unary_op': 58, 'OOD_binary_op': 59, 'OOD_constant': 60, '': 60}\n",
      "{0: '-1', 1: '-10', 2: '-2', 3: '-3', 4: '-4', 5: '-5', 6: '-6', 7: '-7', 8: '-8', 9: '-9', 10: '0', 11: '1', 12: '10', 13: '2', 14: '3', 15: '4', 16: '5', 17: '6', 18: '7', 19: '8', 20: '9', 21: 'INT+', 22: 'INT-', 23: 'abs', 24: 'add', 25: 'arccos', 26: 'arcsin', 27: 'arctan', 28: 'cos', 29: 'div', 30: 'e', 31: 'euler_gamma', 32: 'exp', 33: 'inv', 34: 'log', 35: 'mul', 36: 'n', 37: 'pi', 38: 'pow', 39: 'rand', 40: 'sin', 41: 'sqr', 42: 'sqrt', 43: 'sub', 44: 'tan', 45: 'x_0_0', 46: 'x_0_1', 47: 'x_0_2', 48: 'x_0_3', 49: 'x_0_4', 50: 'x_0_5', 51: 'x_0_6', 52: '|', 53: 'EOS', 54: 'PAD', 55: '(', 56: ')', 57: 'SPECIAL', 58: 'OOD_unary_op', 59: 'OOD_binary_op', 60: 'OOD_constant'}\n",
      "Percentage of successful generation: 45.9\n",
      "Time: 1.399864673614502\n",
      "{'n_input_points': array([[1.00000000e+01, 6.10021786e-02],\n",
      "       [1.10000000e+01, 4.79302832e-02],\n",
      "       [1.20000000e+01, 4.13943355e-02],\n",
      "       [1.30000000e+01, 3.48583878e-02],\n",
      "       [1.40000000e+01, 6.31808279e-02],\n",
      "       [1.50000000e+01, 4.79302832e-02],\n",
      "       [1.60000000e+01, 5.01089325e-02],\n",
      "       [1.70000000e+01, 4.57516340e-02],\n",
      "       [1.80000000e+01, 5.88235294e-02],\n",
      "       [1.90000000e+01, 5.88235294e-02],\n",
      "       [2.00000000e+01, 3.92156863e-02],\n",
      "       [2.10000000e+01, 4.57516340e-02],\n",
      "       [2.20000000e+01, 4.35729847e-02],\n",
      "       [2.30000000e+01, 5.22875817e-02],\n",
      "       [2.40000000e+01, 6.53594771e-02],\n",
      "       [2.50000000e+01, 4.79302832e-02],\n",
      "       [2.60000000e+01, 1.96078431e-02],\n",
      "       [2.70000000e+01, 5.44662309e-02],\n",
      "       [2.80000000e+01, 4.35729847e-02],\n",
      "       [2.90000000e+01, 3.26797386e-02],\n",
      "       [3.00000000e+01, 4.57516340e-02]]), 'n_ops': array([[ 1.        ,  0.11982571],\n",
      "       [ 2.        ,  0.12636166],\n",
      "       [ 3.        ,  0.10239651],\n",
      "       [ 4.        ,  0.10675381],\n",
      "       [ 5.        ,  0.09803922],\n",
      "       [ 6.        ,  0.11111111],\n",
      "       [ 7.        ,  0.10021786],\n",
      "       [ 8.        ,  0.09150327],\n",
      "       [ 9.        ,  0.07625272],\n",
      "       [10.        ,  0.06753813]]), 'n_recurrence_degree': array([[0.        , 0.21568627],\n",
      "       [1.        , 0.25272331],\n",
      "       [2.        , 0.18300654],\n",
      "       [3.        , 0.1416122 ],\n",
      "       [4.        , 0.11111111],\n",
      "       [5.        , 0.05446623],\n",
      "       [6.        , 0.04139434]])}\n",
      "Average sizes: input 198, output 25\n"
     ]
    }
   ],
   "source": [
    "class params:\n",
    "    float_precision = 8\n",
    "    max_len = 30\n",
    "    min_len=10\n",
    "    max_degree = 6\n",
    "    max_number = 1e100\n",
    "    float_sequences = True\n",
    "    output_numeric = False\n",
    "    max_exponent = 100\n",
    "    init_scale = 10\n",
    "    prob_const=1/3\n",
    "    prob_n = 1/3\n",
    "    max_int = 10\n",
    "    prob_rand = 0.05\n",
    "    dimension=1\n",
    "    int_base=10000\n",
    "    n_predictions=5\n",
    "    float_tolerance=0.1\n",
    "    more_tolerance=\"0.1\"\n",
    "    max_ops=10\n",
    "    max_token_len=200\n",
    "    eval_noise=False\n",
    "    eval_input_length_modulo = -1\n",
    "    operators_to_remove=\"\"\n",
    "    required_operators=\"\"\n",
    "    extra_unary_operators=\"\"\n",
    "    extra_binary_operators=\"\"\n",
    "    extra_constants=\"\"\n",
    "    float_constants=None\n",
    "    use_sympy=False\n",
    "    simplify=False\n",
    "    mantissa_len = 3\n",
    "    \n",
    "generator = RandomRecurrence(params)\n",
    "env = RecurrenceEnvironment(params)\n",
    "env.rng = np.random.RandomState(0)\n",
    "import time \n",
    "\n",
    "SPECIAL_WORDS = [\"EOS\", \"PAD\", \"(\", \")\", \"SPECIAL\"]\n",
    "\n",
    "if params.float_sequences:\n",
    "    input_encoder = FloatSequences(params)\n",
    "else:\n",
    "    input_encoder = IntegerSequences(params)\n",
    "input_words = SPECIAL_WORDS+sorted(list(set(input_encoder.symbols)))\n",
    "\n",
    "if params.output_numeric:\n",
    "    if params.float_sequences:\n",
    "        output_encoder = FloatSequences(params)\n",
    "    else:\n",
    "        output_encoder = IntegerSequences(params)\n",
    "else:\n",
    "    output_encoder = Equation(params, generator.symbols)\n",
    "print(env.output_word2id)\n",
    "print(env.output_id2word)\n",
    "\n",
    "deb = time.time()\n",
    "k_trials=1000\n",
    "successful_trials=0\n",
    "size_input=[]\n",
    "size_output=[]\n",
    "infos_stats = {}\n",
    "#n_ops_stats = {i:0 for i in range(1,(params.max_ops+1)*params.dimension)}\n",
    "\n",
    "for k in range(k_trials):\n",
    "    \n",
    "    x, y, tree, infos = env.gen_expr(False, params.eval_input_length_modulo)\n",
    "    if tree is not None:\n",
    "        for info in infos:\n",
    "            if info not in infos_stats:\n",
    "                infos_stats[info]=np.zeros((1000,))\n",
    "            for val in infos[info]:\n",
    "                infos_stats[info][val]+=1\n",
    "\n",
    "        successful_trials+=1\n",
    "        size_input.append(len(x[0]))\n",
    "        size_output.append(len(y[0]))\n",
    "\n",
    "size_input=np.array(size_input)\n",
    "size_output=np.array(size_output)\n",
    "#n_valid_equations = sum(list(n_ops_stats.values()))\n",
    "for info in infos_stats:\n",
    "    non_null_points = np.where(infos_stats[info]!=0.)[0]\n",
    "    values_non_null_points = infos_stats[info][non_null_points]\n",
    "    count = values_non_null_points.sum()\n",
    "    infos_stats[info] = np.concatenate([np.expand_dims(non_null_points,-1), np.expand_dims(values_non_null_points/count,-1)],-1)\n",
    "\n",
    "print(\"Percentage of successful generation: {}\".format(successful_trials/k_trials*100))\n",
    "print(\"Time: {}\".format(time.time()-deb))\n",
    "print(infos_stats)\n",
    "print(\"Average sizes: input {}, output {}\".format(size_input.max(), size_output.max()))\n"
   ]
  },
  {
   "cell_type": "code",
   "execution_count": null,
   "metadata": {},
   "outputs": [],
   "source": [
    "python train.py --export_data True --dump_path=/private/home/pakamienny/Research_2/recur_datasets/all_domain/ --cpu True --max_epoch 2 --eval_input_length_modulo 5 --epoch_size 10000 "
   ]
  },
  {
   "cell_type": "code",
   "execution_count": null,
   "metadata": {},
   "outputs": [],
   "source": [
    "x = np.array([  0.,   0.,   0.,   0.,   0.,   0.,   0.,   0.,   0.,   0.,   0.,\n",
    "         0.,   0.,   0.,   0.,   0.,   0.,   0.,   0.,   0.,   0.,   0.,\n",
    "         0.,   0.,   0.,   0.,   0.,   0.,   0.,   0., 566.\n",
    "             ])\n",
    "np.argwhere(x!=0.)"
   ]
  },
  {
   "cell_type": "markdown",
   "metadata": {},
   "source": [
    "# Checking encoder"
   ]
  },
  {
   "cell_type": "code",
   "execution_count": 32,
   "metadata": {},
   "outputs": [
    {
     "name": "stdout",
     "output_type": "stream",
     "text": [
      "[['-', 'N9221', 'E-3', '-', 'N9586', 'E-3', '-', 'N4554', 'E-3', '-', 'N2530', 'E-3', '-', 'N7061', 'E-3', '+', 'N2104', 'E-3', '+', 'N1727', 'E-3', '+', 'N7105', 'E-3', '+', 'N9656', 'E-3', '+', 'N4364', 'E-3', '+', 'N1168', 'E-2', '+', 'N1099', 'E-2', '+', 'N1768', 'E-2', '+', 'N2035', 'E-2', '+', 'N1468', 'E-2', '+', 'N2242', 'E-2', '+', 'N2172', 'E-2', '+', 'N2851', 'E-2', '+', 'N3120', 'E-2', '+', 'N2547', 'E-2', '+', 'N3329', 'E-2', '+', 'N3258', 'E-2', '+', 'N3941', 'E-2', '+', 'N4210', 'E-2', '+', 'N3635', 'E-2', '+', 'N4420', 'E-2', '+', 'N4349', 'E-2', '+', 'N5033', 'E-2', '+', 'N5303', 'E-2']] [['sub', 'sub', 'add', 'n', 'abs', 'sqr', 'INT-', '3', 'div', 'INT+', '3', 'x_0_5', 'add', 'INT-', '2', 'sub', 'n', 'x_0_5']] (((n add abs((-3)**2)) sub (3 div x_0_5)) sub (-2 add (n sub x_0_5)))\n"
     ]
    }
   ],
   "source": [
    "x, y, tree, infos = env.gen_expr(False)\n",
    "print(x,y,tree)"
   ]
  },
  {
   "cell_type": "code",
   "execution_count": 33,
   "metadata": {},
   "outputs": [
    {
     "name": "stdout",
     "output_type": "stream",
     "text": [
      "(((n add abs((-3)**2)) sub (3 div x_0_5)) sub (-2 add (n sub x_0_5)))\n",
      "['sub', 'sub', 'add', 'n', 'abs', 'sqr', 'INT-', '3', 'div', 'INT+', '3', 'x_0_5', 'add', 'INT-', '2', 'sub', 'n', 'x_0_5']\n",
      "(((n add abs((-3)**2)) sub (3 div x_0_5)) sub (-2 add (n sub x_0_5)))\n"
     ]
    }
   ],
   "source": [
    "encoder = Equation(params, generator.symbols)\n",
    "print(tree.infix())\n",
    "encoded = encoder.encode(tree)\n",
    "print(encoded)\n",
    "decoded = encoder.decode(encoded)\n",
    "print(decoded.infix())"
   ]
  },
  {
   "cell_type": "code",
   "execution_count": 32,
   "metadata": {},
   "outputs": [
    {
     "name": "stdout",
     "output_type": "stream",
     "text": [
      "[1.0, 2.718281828459045, 7.38905609893065, 20.085536923187668, 54.598150033144236, 148.4131591025766, 403.4287934927351, 1096.6331584284585, 2980.9579870417283, 8103.083927575384]\n",
      "['+', 'N100', 'N0', 'N0', 'E-8', '+', 'N271', 'N828', 'N183', 'E-8', '+', 'N738', 'N905', 'N610', 'E-8', '+', 'N200', 'N855', 'N369', 'E-7', '+', 'N545', 'N981', 'N500', 'E-7', '+', 'N148', 'N413', 'N159', 'E-6', '+', 'N403', 'N428', 'N793', 'E-6', '+', 'N109', 'N663', 'N316', 'E-5', '+', 'N298', 'N95', 'N799', 'E-5', '+', 'N810', 'N308', 'N393', 'E-5']\n",
      "[0.0001, 2.71828183, 7.3890561, 20.085536899999997, 54.59815, 148.413159, 403.428793, 1096.63316, 298.95799000000005, 8103.083930000001]\n"
     ]
    }
   ],
   "source": [
    "x = [np.exp(n) for n in range(10)]\n",
    "encoder = FloatSequences(params)\n",
    "print(x)\n",
    "encoded = encoder.encode(x)\n",
    "print(encoded)\n",
    "decoded = encoder.decode(encoded)\n",
    "print(decoded)"
   ]
  },
  {
   "cell_type": "code",
   "execution_count": null,
   "metadata": {},
   "outputs": [],
   "source": []
  }
 ],
 "metadata": {
  "kernelspec": {
   "display_name": "Python 3",
   "language": "python",
   "name": "python3"
  },
  "language_info": {
   "codemirror_mode": {
    "name": "ipython",
    "version": 3
   },
   "file_extension": ".py",
   "mimetype": "text/x-python",
   "name": "python",
   "nbconvert_exporter": "python",
   "pygments_lexer": "ipython3",
   "version": "3.8.5"
  }
 },
 "nbformat": 4,
 "nbformat_minor": 4
}
