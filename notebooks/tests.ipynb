{
 "cells": [
  {
   "cell_type": "markdown",
   "metadata": {},
   "source": [
    "# Playing with generator"
   ]
  },
  {
   "cell_type": "code",
   "execution_count": 56,
   "metadata": {},
   "outputs": [
    {
     "name": "stdout",
     "output_type": "stream",
     "text": [
      "The autoreload extension is already loaded. To reload it, use:\n",
      "  %reload_ext autoreload\n"
     ]
    }
   ],
   "source": [
    "#%%timeit\n",
    "import glob\n",
    "import os\n",
    "import matplotlib\n",
    "import matplotlib.pyplot as plt\n",
    "from mpl_toolkits.mplot3d import Axes3D\n",
    "import torch\n",
    "import numpy as np\n",
    "import sys\n",
    "import copy\n",
    "from pathlib import Path\n",
    "#from src.envs.generators import RandomRecurrence\n",
    "#from src.envs.encoders import Equation, IntegerSeries, RealSeries\n",
    "from sympy import *\n",
    "import pickle\n",
    "from collections import defaultdict, OrderedDict\n",
    "import math\n",
    "\n",
    "\n",
    "%load_ext autoreload\n",
    "%autoreload 2\n",
    "#%cd ~/recur/notebooks\n",
    "sys.path.append('/private/home/pakamienny/Research_2/recur')\n",
    "import src\n",
    "from src.envs.generators import RandomRecurrence\n",
    "from src.envs.encoders import Equation, RealSeries, IntegerSeries\n",
    "from src.envs.recurrence import RecurrenceEnvironment\n"
   ]
  },
  {
   "cell_type": "code",
   "execution_count": 59,
   "metadata": {},
   "outputs": [
    {
     "name": "stdout",
     "output_type": "stream",
     "text": [
      "Percentage of successful generation: 22.6\n",
      "Time: 1.3986194133758545\n",
      "{'n_input_points': array([[1.00000000e+01, 4.42477876e-02],\n",
      "       [1.10000000e+01, 6.63716814e-02],\n",
      "       [1.20000000e+01, 5.30973451e-02],\n",
      "       [1.30000000e+01, 4.42477876e-02],\n",
      "       [1.40000000e+01, 3.98230088e-02],\n",
      "       [1.50000000e+01, 4.42477876e-02],\n",
      "       [1.60000000e+01, 4.86725664e-02],\n",
      "       [1.70000000e+01, 3.98230088e-02],\n",
      "       [1.80000000e+01, 3.53982301e-02],\n",
      "       [1.90000000e+01, 4.86725664e-02],\n",
      "       [2.00000000e+01, 6.19469027e-02],\n",
      "       [2.10000000e+01, 7.96460177e-02],\n",
      "       [2.20000000e+01, 3.09734513e-02],\n",
      "       [2.30000000e+01, 6.19469027e-02],\n",
      "       [2.40000000e+01, 2.65486726e-02],\n",
      "       [2.50000000e+01, 6.19469027e-02],\n",
      "       [2.60000000e+01, 3.98230088e-02],\n",
      "       [2.70000000e+01, 4.42477876e-02],\n",
      "       [2.80000000e+01, 3.09734513e-02],\n",
      "       [2.90000000e+01, 7.07964602e-02],\n",
      "       [3.00000000e+01, 2.65486726e-02]]), 'n_ops': array([[ 1.        ,  0.1460177 ],\n",
      "       [ 2.        ,  0.10619469],\n",
      "       [ 3.        ,  0.07522124],\n",
      "       [ 4.        ,  0.11061947],\n",
      "       [ 5.        ,  0.14159292],\n",
      "       [ 6.        ,  0.09292035],\n",
      "       [ 7.        ,  0.09292035],\n",
      "       [ 8.        ,  0.11061947],\n",
      "       [ 9.        ,  0.05309735],\n",
      "       [10.        ,  0.07079646]]), 'n_recurrence_degree': array([[0.        , 0.19469027],\n",
      "       [1.        , 0.16371681],\n",
      "       [2.        , 0.2079646 ],\n",
      "       [3.        , 0.13716814],\n",
      "       [4.        , 0.13274336],\n",
      "       [5.        , 0.10619469],\n",
      "       [6.        , 0.05752212]])}\n",
      "Average sizes: input 191, output 69\n"
     ]
    }
   ],
   "source": [
    "class params:\n",
    "    float_precision = 3\n",
    "    max_len = 30\n",
    "    min_len=10\n",
    "    max_degree = 6\n",
    "    max_number = 1e100\n",
    "    real_series = False\n",
    "    output_numeric=True\n",
    "    max_exponent = 100\n",
    "    init_scale = 10\n",
    "    prob_const=1/3\n",
    "    prob_n = 1/3\n",
    "    max_int = 10\n",
    "    prob_rand = 0.05\n",
    "    dimension=1\n",
    "    int_base=10000\n",
    "    n_predictions=5\n",
    "    float_tolerance=0.1\n",
    "    more_tolerance=\"0.1\"\n",
    "    max_ops=10\n",
    "    max_token_len=200\n",
    "    eval_noise=False\n",
    "    eval_input_length_modulo = -1\n",
    "    operators_to_remove=\"\"\n",
    "    required_operators=\"\"\n",
    "    extra_unary_operators=\"\"\n",
    "    extra_binary_operators=\"\"\n",
    "    extra_constants=\"\"\n",
    "    float_constants=None\n",
    "    \n",
    "generator = RandomRecurrence(params)\n",
    "env = RecurrenceEnvironment(params)\n",
    "env.rng = np.random.RandomState(0)\n",
    "import time \n",
    "\n",
    "SPECIAL_WORDS = [\"EOS\", \"PAD\", \"(\", \")\", \"SPECIAL\"]\n",
    "\n",
    "if params.real_series:\n",
    "    input_encoder = RealSeries(params)\n",
    "else:\n",
    "    input_encoder = IntegerSeries(params)\n",
    "input_words = SPECIAL_WORDS+sorted(list(set(input_encoder.symbols)))\n",
    "\n",
    "if params.output_numeric:\n",
    "    if params.real_series:\n",
    "        output_encoder = RealSeries(params)\n",
    "    else:\n",
    "        output_encoder = IntegerSeries(params)\n",
    "else:\n",
    "    output_encoder = Equation(params)\n",
    "\n",
    "deb = time.time()\n",
    "k_trials=1000\n",
    "successful_trials=0\n",
    "size_input=[]\n",
    "size_output=[]\n",
    "infos_stats = {}\n",
    "#n_ops_stats = {i:0 for i in range(1,(params.max_ops+1)*params.dimension)}\n",
    "\n",
    "for k in range(k_trials):\n",
    "    \n",
    "    x, y, tree, infos = env.gen_expr(False, params.eval_input_length_modulo)\n",
    "    if tree is not None:\n",
    "        for info in infos:\n",
    "            if info not in infos_stats:\n",
    "                infos_stats[info]=np.zeros((1000,))\n",
    "            for val in infos[info]:\n",
    "                infos_stats[info][val]+=1\n",
    "        #print(tree.infix())\n",
    "        successful_trials+=1\n",
    "        size_input.append(len(x[0]))\n",
    "        size_output.append(len(y[0]))\n",
    "\n",
    "size_input=np.array(size_input)\n",
    "size_output=np.array(size_output)\n",
    "#n_valid_equations = sum(list(n_ops_stats.values()))\n",
    "for info in infos_stats:\n",
    "    non_null_points = np.where(infos_stats[info]!=0.)[0]\n",
    "    values_non_null_points = infos_stats[info][non_null_points]\n",
    "    count = values_non_null_points.sum()\n",
    "    infos_stats[info] = np.concatenate([np.expand_dims(non_null_points,-1), np.expand_dims(values_non_null_points/count,-1)],-1)\n",
    "\n",
    "print(\"Percentage of successful generation: {}\".format(successful_trials/k_trials*100))\n",
    "print(\"Time: {}\".format(time.time()-deb))\n",
    "print(infos_stats)\n",
    "print(\"Average sizes: input {}, output {}\".format(size_input.max(), size_output.max()))\n"
   ]
  },
  {
   "cell_type": "code",
   "execution_count": null,
   "metadata": {},
   "outputs": [],
   "source": [
    "python train.py --export_data True --dump_path=/private/home/pakamienny/Research_2/recur_datasets/all_domain/ --cpu True --max_epoch 2 --eval_input_length_modulo 5 --epoch_size 10000 "
   ]
  },
  {
   "cell_type": "code",
   "execution_count": null,
   "metadata": {},
   "outputs": [],
   "source": [
    "x = np.array([  0.,   0.,   0.,   0.,   0.,   0.,   0.,   0.,   0.,   0.,   0.,\n",
    "         0.,   0.,   0.,   0.,   0.,   0.,   0.,   0.,   0.,   0.,   0.,\n",
    "         0.,   0.,   0.,   0.,   0.,   0.,   0.,   0., 566.\n",
    "             ])\n",
    "np.argwhere(x!=0.)"
   ]
  },
  {
   "cell_type": "markdown",
   "metadata": {},
   "source": [
    "# Checking encoder"
   ]
  },
  {
   "cell_type": "code",
   "execution_count": null,
   "metadata": {},
   "outputs": [],
   "source": [
    "class params:\n",
    "    int_base = 10\n",
    "    has_separator = False\n",
    "    \n",
    "encoder = Equation(params)\n",
    "print(tree.infix())\n",
    "encoded = encoder.encode(tree)\n",
    "print(encoded)\n",
    "decoded = encoder.decode(encoded)\n",
    "print(decoded.infix())"
   ]
  },
  {
   "cell_type": "code",
   "execution_count": null,
   "metadata": {},
   "outputs": [],
   "source": [
    "class params:\n",
    "    a=1\n",
    "    \n",
    "from src.envs.encoders import RealSeries\n",
    "\n",
    "encoder = RealSeries(params)\n",
    "x = series\n",
    "print(x)\n",
    "encoded = encoder.encode(x)\n",
    "print(encoded)\n",
    "decoded = encoder.decode(encoded)\n",
    "print(decoded)"
   ]
  }
 ],
 "metadata": {
  "kernelspec": {
   "display_name": "Python 3",
   "language": "python",
   "name": "python3"
  },
  "language_info": {
   "codemirror_mode": {
    "name": "ipython",
    "version": 3
   },
   "file_extension": ".py",
   "mimetype": "text/x-python",
   "name": "python",
   "nbconvert_exporter": "python",
   "pygments_lexer": "ipython3",
   "version": "3.7.5"
  }
 },
 "nbformat": 4,
 "nbformat_minor": 4
}
