{
 "cells": [
  {
   "cell_type": "markdown",
   "metadata": {},
   "source": [
    "# Playing with generator"
   ]
  },
  {
   "cell_type": "code",
   "execution_count": 9,
   "metadata": {},
   "outputs": [],
   "source": [
    "#%%timeit\n",
    "import glob\n",
    "import os\n",
    "import matplotlib\n",
    "import matplotlib.pyplot as plt\n",
    "from mpl_toolkits.mplot3d import Axes3D\n",
    "import torch\n",
    "import numpy as np\n",
    "import sys\n",
    "import copy\n",
    "from pathlib import Path\n",
    "#from src.envs.generators import RandomRecurrence\n",
    "#from src.envs.encoders import Equation, IntegerSeries, RealSeries\n",
    "from sympy import *\n",
    "import pickle\n",
    "from collections import defaultdict, OrderedDict\n",
    "import math\n",
    "\n",
    "%reload_ext autoreload\n",
    "\n",
    "#%cd ~/recur/notebooks\n",
    "sys.path.append('/private/home/pakamienny/Research_2/recur')\n",
    "import src\n",
    "from src.envs.generators import RandomRecurrence\n",
    "from src.envs.encoders import Equation\n",
    "\n",
    "class params:\n",
    "    float_precision = 3\n",
    "    max_len = 30\n",
    "    max_ops = 6\n",
    "    max_degree = 6\n",
    "    max_number = 1e100\n",
    "    real_series = True\n",
    "    max_exponent = 100\n",
    "    init_scale = 10\n",
    "    prob_const=1/3\n",
    "    prob_n = 1/3\n",
    "    max_int = 10\n",
    "    prob_rand = 0.2\n",
    "    dimension=3\n",
    "    "
   ]
  },
  {
   "cell_type": "code",
   "execution_count": 11,
   "metadata": {},
   "outputs": [
    {
     "name": "stdout",
     "output_type": "stream",
     "text": [
      "Percentage of successful generation: 66.60000000000001\n",
      "Time: 9.664140701293945\n"
     ]
    }
   ],
   "source": [
    "generator = RandomRecurrence(params)\n",
    "\n",
    "rng = np.random.RandomState(0)\n",
    "import time \n",
    "\n",
    "deb = time.time()\n",
    "k_trials=10000\n",
    "successful_trials=0\n",
    "for k in range(k_trials):\n",
    "    tree, series, _ = generator.generate(rng, length=15, nb_ops = 1)\n",
    "    if tree is not None:\n",
    "        successful_trials+=1\n",
    "        #print(tree)\n",
    "        #print(series)\n",
    "        #for i in range(params.dimension):\n",
    "        #    plt.title(tree.infix())\n",
    "        #    plt.plot(series[i::params.dimension])\n",
    "        #plt.yscale('symlog')\n",
    "        #plt.show()\n",
    "        \n",
    "print(\"Percentage of successful generation: {}\".format(successful_trials/k_trials*100))\n",
    "print(\"Time: {}\".format(time.time()-deb))"
   ]
  },
  {
   "cell_type": "markdown",
   "metadata": {},
   "source": [
    "# Checking encoder"
   ]
  },
  {
   "cell_type": "code",
   "execution_count": 3,
   "metadata": {},
   "outputs": [
    {
     "name": "stdout",
     "output_type": "stream",
     "text": [
      "(3 add -2) | (n idiv -1) | (x_1_1 mul x_1_2)\n",
      "['add', '3', '-2', '|', 'idiv', 'n', '-1', '|', 'mul', 'x_1_1', 'x_1_2']\n",
      "(3 add -2) | (n idiv -1) | (x_1_1 mul x_1_2)\n"
     ]
    }
   ],
   "source": [
    "class params:\n",
    "    int_base = 10\n",
    "    has_separator = False\n",
    "    \n",
    "encoder = Equation(params)\n",
    "print(tree.infix())\n",
    "encoded = encoder.encode(tree)\n",
    "print(encoded)\n",
    "decoded = encoder.decode(encoded)\n",
    "print(decoded.infix())"
   ]
  },
  {
   "cell_type": "code",
   "execution_count": 4,
   "metadata": {},
   "outputs": [
    {
     "ename": "AttributeError",
     "evalue": "type object 'params' has no attribute 'float_precision'",
     "output_type": "error",
     "traceback": [
      "\u001b[0;31m---------------------------------------------------------------------------\u001b[0m",
      "\u001b[0;31mAttributeError\u001b[0m                            Traceback (most recent call last)",
      "\u001b[0;32m/tmp/ipykernel_1294317/2025207350.py\u001b[0m in \u001b[0;36m<module>\u001b[0;34m\u001b[0m\n\u001b[1;32m      4\u001b[0m \u001b[0;32mfrom\u001b[0m \u001b[0msrc\u001b[0m\u001b[0;34m.\u001b[0m\u001b[0menvs\u001b[0m\u001b[0;34m.\u001b[0m\u001b[0mencoders\u001b[0m \u001b[0;32mimport\u001b[0m \u001b[0mRealSeries\u001b[0m\u001b[0;34m\u001b[0m\u001b[0;34m\u001b[0m\u001b[0m\n\u001b[1;32m      5\u001b[0m \u001b[0;34m\u001b[0m\u001b[0m\n\u001b[0;32m----> 6\u001b[0;31m \u001b[0mencoder\u001b[0m \u001b[0;34m=\u001b[0m \u001b[0mRealSeries\u001b[0m\u001b[0;34m(\u001b[0m\u001b[0mparams\u001b[0m\u001b[0;34m)\u001b[0m\u001b[0;34m\u001b[0m\u001b[0;34m\u001b[0m\u001b[0m\n\u001b[0m\u001b[1;32m      7\u001b[0m \u001b[0mx\u001b[0m \u001b[0;34m=\u001b[0m \u001b[0mseries\u001b[0m\u001b[0;34m\u001b[0m\u001b[0;34m\u001b[0m\u001b[0m\n\u001b[1;32m      8\u001b[0m \u001b[0mprint\u001b[0m\u001b[0;34m(\u001b[0m\u001b[0mx\u001b[0m\u001b[0;34m)\u001b[0m\u001b[0;34m\u001b[0m\u001b[0;34m\u001b[0m\u001b[0m\n",
      "\u001b[0;32m~/Research_2/recur/src/envs/encoders.py\u001b[0m in \u001b[0;36m__init__\u001b[0;34m(self, params)\u001b[0m\n\u001b[1;32m     71\u001b[0m     \u001b[0;32mdef\u001b[0m \u001b[0m__init__\u001b[0m\u001b[0;34m(\u001b[0m\u001b[0mself\u001b[0m\u001b[0;34m,\u001b[0m \u001b[0mparams\u001b[0m\u001b[0;34m)\u001b[0m\u001b[0;34m:\u001b[0m\u001b[0;34m\u001b[0m\u001b[0;34m\u001b[0m\u001b[0m\n\u001b[1;32m     72\u001b[0m         \u001b[0msuper\u001b[0m\u001b[0;34m(\u001b[0m\u001b[0;34m)\u001b[0m\u001b[0;34m.\u001b[0m\u001b[0m__init__\u001b[0m\u001b[0;34m(\u001b[0m\u001b[0mparams\u001b[0m\u001b[0;34m)\u001b[0m\u001b[0;34m\u001b[0m\u001b[0;34m\u001b[0m\u001b[0m\n\u001b[0;32m---> 73\u001b[0;31m         \u001b[0mself\u001b[0m\u001b[0;34m.\u001b[0m\u001b[0mfloat_precision\u001b[0m \u001b[0;34m=\u001b[0m \u001b[0mparams\u001b[0m\u001b[0;34m.\u001b[0m\u001b[0mfloat_precision\u001b[0m\u001b[0;34m\u001b[0m\u001b[0;34m\u001b[0m\u001b[0m\n\u001b[0m\u001b[1;32m     74\u001b[0m         \u001b[0mself\u001b[0m\u001b[0;34m.\u001b[0m\u001b[0mmax_exponent\u001b[0m \u001b[0;34m=\u001b[0m \u001b[0mparams\u001b[0m\u001b[0;34m.\u001b[0m\u001b[0mmax_exponent\u001b[0m\u001b[0;34m\u001b[0m\u001b[0;34m\u001b[0m\u001b[0m\n\u001b[1;32m     75\u001b[0m         \u001b[0mself\u001b[0m\u001b[0;34m.\u001b[0m\u001b[0mmax_token\u001b[0m \u001b[0;34m=\u001b[0m \u001b[0;36m10\u001b[0m \u001b[0;34m**\u001b[0m \u001b[0;34m(\u001b[0m\u001b[0mself\u001b[0m\u001b[0;34m.\u001b[0m\u001b[0mfloat_precision\u001b[0m \u001b[0;34m+\u001b[0m \u001b[0;36m1\u001b[0m\u001b[0;34m)\u001b[0m\u001b[0;34m\u001b[0m\u001b[0;34m\u001b[0m\u001b[0m\n",
      "\u001b[0;31mAttributeError\u001b[0m: type object 'params' has no attribute 'float_precision'"
     ]
    }
   ],
   "source": [
    "class params:\n",
    "    a=1\n",
    "    \n",
    "from src.envs.encoders import RealSeries\n",
    "\n",
    "encoder = RealSeries(params)\n",
    "x = series\n",
    "print(x)\n",
    "encoded = encoder.encode(x)\n",
    "print(encoded)\n",
    "decoded = encoder.decode(encoded)\n",
    "print(decoded)"
   ]
  }
 ],
 "metadata": {
  "kernelspec": {
   "display_name": "Python 3",
   "language": "python",
   "name": "python3"
  },
  "language_info": {
   "codemirror_mode": {
    "name": "ipython",
    "version": 3
   },
   "file_extension": ".py",
   "mimetype": "text/x-python",
   "name": "python",
   "nbconvert_exporter": "python",
   "pygments_lexer": "ipython3",
   "version": "3.7.5"
  }
 },
 "nbformat": 4,
 "nbformat_minor": 4
}
